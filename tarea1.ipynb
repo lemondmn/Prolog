{
 "cells": [
  {
   "attachments": {},
   "cell_type": "markdown",
   "metadata": {},
   "source": [
    "# Practica 1 Estilos de Programación Unidad 1\n",
    "\n",
    "**Humberto Maldonado Rojas**\n",
    "\n",
    "19121049\n",
    "\n",
    "Programación Lógica y Funcional\n",
    "\n",
    "Grupo A"
   ]
  },
  {
   "attachments": {},
   "cell_type": "markdown",
   "metadata": {},
   "source": [
    "## Algoritmo\n",
    "\n",
    "El algoritmo propuesto es que dada la función de tamaño n,m se vaya recorriendo iterativamente casilla por casilla, suponiendo que donde haya ceros es \"mar\" y donde haya unos son \"islas\", cuando se encuentre un uno, va a cambiar el valor por cualquier otro numero o una letra, despues va a pasar la posicion a otra funcion que recorra los alrededores del primer uno encontrado hasta que todos los unos adyacentes se hayan cambiado por otro valor. Al terminar, va a aumentar en uno el contador de islas"
   ]
  },
  {
   "attachments": {},
   "cell_type": "markdown",
   "metadata": {},
   "source": [
    "## Código\n",
    "\n",
    "---"
   ]
  },
  {
   "cell_type": "code",
   "execution_count": 26,
   "metadata": {},
   "outputs": [],
   "source": [
    "import copy\n",
    "\n",
    "def count(matrix):\n",
    "    x = len(matrix)     # num. de filas\n",
    "    y = len(matrix[0])  # num. de columnas\n",
    "\n",
    "    def changeValue(i, j):\n",
    "        if (i < 0 or i >= x or j < 0 or j >= y or matrix[i][j] != 1):\n",
    "            return\n",
    "        \n",
    "        matrix[i][j] = 'v'  # marcar como visitado\n",
    "        changeValue(i+1, j) # mover hacia la derecha\n",
    "        changeValue(i-1, j) # mover hacia la izquierda\n",
    "        changeValue(i, j+1) # mover hacia arriba\n",
    "        changeValue(i, j-1) # mover hacia abajo\n",
    "\n",
    "    num = 0 # contador de islas\n",
    "\n",
    "    modified = copy.deepcopy(matrix) # copia de la matriz original\n",
    "    \n",
    "    for i in range(x):\n",
    "        for j in range(y):\n",
    "            if matrix[i][j] == 1:\n",
    "                num += 1\n",
    "                changeValue(i, j)\n",
    "\n",
    "    return num, modified\n",
    "\n",
    "def printMatrix(matrix):\n",
    "    for i in range(len(matrix)):\n",
    "        for j in range(len(matrix[0])):\n",
    "            print(matrix[i][j], end=\" \")\n",
    "        print()\n"
   ]
  },
  {
   "attachments": {},
   "cell_type": "markdown",
   "metadata": {},
   "source": [
    "### Explicación\n",
    "\n",
    "Importamos `copy` para hacer una copia de la matriz para comparación. Definimos la función `count` que es nuestra función principal, que en este caso contiene la función recursiva `changeValue` que primero evalua si los parametros definidos están dentro de los límites del arreglo y si el elemento no es un uno. En caso de no cumplir con las condiciones la función se detiene mediante el `return`. Si no se detiene, cambia el valor que es un `1` por una `v` para indicar que ese elemento ya fue visitado y se llama recursivamente a la misma función hasta que ya no se cumplan las condiciones.\n",
    "\n",
    "En este caso la condición de paro de la función es que verifica primero si el elemento es diferente de uno, de ser así, se detiene.\n",
    "\n",
    "Finalmente la función auxiliar `printMatrix` es unicamente para imprimir las matrices de forma bonita."
   ]
  },
  {
   "cell_type": "code",
   "execution_count": 25,
   "metadata": {},
   "outputs": [
    {
     "name": "stdout",
     "output_type": "stream",
     "text": [
      "Numero de islas tarea: 6\n",
      "\n",
      "Numero de islas prueba: 4\n",
      "\n",
      "Mapa original:\n",
      "\n",
      "0 0 1 1 0 \n",
      "0 0 1 1 0 \n",
      "1 1 0 0 0 \n",
      "1 0 1 0 0 \n",
      "0 0 1 0 1 \n",
      "\n",
      "--------------\n",
      "\n",
      "Mapa con islas marcadas:\n",
      "\n",
      "0 0 v v 0 \n",
      "0 0 v v 0 \n",
      "v v 0 0 0 \n",
      "v 0 v 0 0 \n",
      "0 0 v 0 v \n"
     ]
    }
   ],
   "source": [
    "a = [\n",
    "    [0, 0, 0, 0, 0, 0, 0, 0, 0, 0, 0, 0, 0,],\n",
    "    [0, 1, 1, 0, 0, 0, 0, 0, 0, 0, 0, 0, 0,],\n",
    "    [0, 1, 1, 0, 0, 0, 0, 0, 0, 0, 0, 0, 0,],\n",
    "    [0, 0, 0, 0, 0, 0, 0, 0, 0, 0, 0, 0, 0,],\n",
    "    [0, 0, 0, 0, 0, 0, 0, 0, 0, 0, 0, 0, 0,],\n",
    "    [0, 0, 0, 0, 0, 0, 0, 0, 0, 0, 1, 0, 0,],\n",
    "    [0, 0, 0, 0, 1, 1, 1, 0, 0, 0, 1, 0, 0,],\n",
    "    [0, 0, 0, 0, 1, 1, 1, 0, 0, 0, 1, 0, 0,],\n",
    "    [0, 0, 0, 0, 1, 1, 1, 0, 0, 0, 1, 0, 0,],\n",
    "    [0, 0, 0, 0, 1, 1, 1, 0, 0, 0, 1, 0, 0,],\n",
    "    [0, 1, 0, 0, 0, 0, 0, 0, 0, 0, 0, 0, 0,],\n",
    "    [0, 1, 0, 0, 0, 0, 0, 0, 0, 0, 0, 0, 0,],\n",
    "    [0, 1, 0, 0, 0, 0, 0, 0, 0, 0, 0, 0, 0,],\n",
    "    [0, 0, 0, 0, 0, 0, 0, 0, 0, 0, 0, 0, 0,],\n",
    "    [0, 0, 0, 0, 1, 1, 1, 1, 0, 0, 1, 1, 0,],\n",
    "    [0, 0, 0, 0, 1, 1, 1, 1, 0, 0, 0, 0, 0,],\n",
    "    [0, 0, 0, 0, 0, 0, 0, 0, 0, 0, 0, 0, 0,],\n",
    "    ]\n",
    "\n",
    "# a es el mapa de islas de la tarea, deberia imprimir 6\n",
    "\n",
    "b = [\n",
    "    [0, 0, 1, 1, 0],\n",
    "    [0, 0, 1, 1, 0],\n",
    "    [1, 1, 0, 0, 0],\n",
    "    [1, 0, 1, 0, 0],\n",
    "    [0, 0, 1, 0, 1],\n",
    "    ]\n",
    "\n",
    "# b es un mapa de prueba, deberia imprimir 4\n",
    "\n",
    "num, modified = count(a)\n",
    "\n",
    "print(\"Numero de islas tarea: \" + str(num) + \"\\n\")\n",
    "\n",
    "num, modified = count(b)\n",
    "\n",
    "print(\"Numero de islas prueba: \" + str(num) + \"\\n\")\n",
    "print(\"Mapa original:\\n\")\n",
    "printMatrix(modified)\n",
    "print(\"\\n--------------\\n\")\n",
    "print(\"Mapa con islas marcadas:\\n\")\n",
    "printMatrix(b)\n",
    "\n"
   ]
  }
 ],
 "metadata": {
  "kernelspec": {
   "display_name": "Python 3",
   "language": "python",
   "name": "python3"
  },
  "language_info": {
   "codemirror_mode": {
    "name": "ipython",
    "version": 3
   },
   "file_extension": ".py",
   "mimetype": "text/x-python",
   "name": "python",
   "nbconvert_exporter": "python",
   "pygments_lexer": "ipython3",
   "version": "3.10.6"
  },
  "orig_nbformat": 4,
  "vscode": {
   "interpreter": {
    "hash": "369f2c481f4da34e4445cda3fffd2e751bd1c4d706f27375911949ba6bb62e1c"
   }
  }
 },
 "nbformat": 4,
 "nbformat_minor": 2
}
